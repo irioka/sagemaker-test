{
 "cells": [
  {
   "cell_type": "markdown",
   "metadata": {},
   "source": [
    "# XGBoostによる二値分類（ローカル）\n",
    "- ローカルからAWS上のトレーニングジョブを実行\n",
    "- XGBoostはECRイメージを使用\n",
    "- バッチトランスフォームでテストデータを推論"
   ]
  },
  {
   "cell_type": "markdown",
   "metadata": {},
   "source": [
    "## Data preparation"
   ]
  },
  {
   "cell_type": "code",
   "execution_count": 1,
   "metadata": {},
   "outputs": [],
   "source": [
    "import pandas as pd\n",
    "import numpy as np"
   ]
  },
  {
   "cell_type": "code",
   "execution_count": 2,
   "metadata": {},
   "outputs": [],
   "source": [
    "data = pd.read_csv('https://archive.ics.uci.edu/ml/machine-learning-databases/breast-cancer-wisconsin/wdbc.data', header = None)"
   ]
  },
  {
   "cell_type": "code",
   "execution_count": 3,
   "metadata": {},
   "outputs": [],
   "source": [
    "# specify columns extracted from wbdc.names\n",
    "data.columns = [\"id\",\"diagnosis\",\"radius_mean\",\"texture_mean\",\"perimeter_mean\",\"area_mean\",\"smoothness_mean\",\n",
    "                \"compactness_mean\",\"concavity_mean\",\"concave points_mean\",\"symmetry_mean\",\"fractal_dimension_mean\",\n",
    "                \"radius_se\",\"texture_se\",\"perimeter_se\",\"area_se\",\"smoothness_se\",\"compactness_se\",\"concavity_se\",\n",
    "                \"concave points_se\",\"symmetry_se\",\"fractal_dimension_se\",\"radius_worst\",\"texture_worst\",\n",
    "                \"perimeter_worst\",\"area_worst\",\"smoothness_worst\",\"compactness_worst\",\"concavity_worst\",\n",
    "                \"concave points_worst\",\"symmetry_worst\",\"fractal_dimension_worst\"] "
   ]
  },
  {
   "cell_type": "code",
   "execution_count": 4,
   "metadata": {},
   "outputs": [],
   "source": [
    "data.to_csv(\"data.csv\", sep=',', index=False)"
   ]
  },
  {
   "cell_type": "code",
   "execution_count": 5,
   "metadata": {},
   "outputs": [
    {
     "output_type": "execute_result",
     "data": {
      "text/plain": "           id diagnosis  radius_mean  texture_mean  perimeter_mean  area_mean  \\\n556    924964         B       10.160         19.59           64.73      311.7   \n383     90251         B       12.390         17.48           80.64      462.9   \n490  91376701         B       12.250         22.44           78.18      466.5   \n552    924084         B       12.770         29.43           81.35      507.9   \n35     854253         M       16.740         21.59          110.10      869.5   \n140    868999         B        9.738         11.97           61.24      288.5   \n238    883270         B       14.220         27.85           92.55      623.9   \n254    886226         M       19.450         19.33          126.50     1169.0   \n\n     smoothness_mean  compactness_mean  concavity_mean  concave points_mean  \\\n556          0.10030           0.07504        0.005025              0.01116   \n383          0.10420           0.12970        0.058920              0.02880   \n490          0.08192           0.05200        0.017140              0.01261   \n552          0.08276           0.04234        0.019970              0.01499   \n35           0.09610           0.13360        0.134800              0.06018   \n140          0.09250           0.04102        0.000000              0.00000   \n238          0.08223           0.10390        0.110300              0.04408   \n254          0.10350           0.11880        0.137900              0.08591   \n\n     ...  radius_worst  texture_worst  perimeter_worst  area_worst  \\\n556  ...         10.65          22.88            67.88       347.3   \n383  ...         14.18          23.13            95.23       600.5   \n490  ...         14.17          31.99            92.74       622.9   \n552  ...         13.87          36.00            88.10       594.7   \n35   ...         20.01          29.02           133.50      1229.0   \n140  ...         10.62          14.10            66.53       342.9   \n238  ...         15.75          40.54           102.50       764.0   \n254  ...         25.70          24.57           163.10      1972.0   \n\n     smoothness_worst  compactness_worst  concavity_worst  \\\n556            0.1265            0.12000          0.01005   \n383            0.1427            0.35930          0.32060   \n490            0.1256            0.18040          0.12300   \n552            0.1234            0.10640          0.08653   \n35             0.1563            0.38350          0.54090   \n140            0.1234            0.07204          0.00000   \n238            0.1081            0.24260          0.30640   \n254            0.1497            0.31610          0.43170   \n\n     concave points_worst  symmetry_worst  fractal_dimension_worst  \n556               0.02232          0.2262                  0.06742  \n383               0.09804          0.2819                  0.11180  \n490               0.06335          0.3100                  0.08203  \n552               0.06498          0.2407                  0.06484  \n35                0.18130          0.4863                  0.08633  \n140               0.00000          0.3105                  0.08151  \n238               0.08219          0.1890                  0.07796  \n254               0.19990          0.3379                  0.08950  \n\n[8 rows x 32 columns]",
      "text/html": "<div>\n<style scoped>\n    .dataframe tbody tr th:only-of-type {\n        vertical-align: middle;\n    }\n\n    .dataframe tbody tr th {\n        vertical-align: top;\n    }\n\n    .dataframe thead th {\n        text-align: right;\n    }\n</style>\n<table border=\"1\" class=\"dataframe\">\n  <thead>\n    <tr style=\"text-align: right;\">\n      <th></th>\n      <th>id</th>\n      <th>diagnosis</th>\n      <th>radius_mean</th>\n      <th>texture_mean</th>\n      <th>perimeter_mean</th>\n      <th>area_mean</th>\n      <th>smoothness_mean</th>\n      <th>compactness_mean</th>\n      <th>concavity_mean</th>\n      <th>concave points_mean</th>\n      <th>...</th>\n      <th>radius_worst</th>\n      <th>texture_worst</th>\n      <th>perimeter_worst</th>\n      <th>area_worst</th>\n      <th>smoothness_worst</th>\n      <th>compactness_worst</th>\n      <th>concavity_worst</th>\n      <th>concave points_worst</th>\n      <th>symmetry_worst</th>\n      <th>fractal_dimension_worst</th>\n    </tr>\n  </thead>\n  <tbody>\n    <tr>\n      <th>556</th>\n      <td>924964</td>\n      <td>B</td>\n      <td>10.160</td>\n      <td>19.59</td>\n      <td>64.73</td>\n      <td>311.7</td>\n      <td>0.10030</td>\n      <td>0.07504</td>\n      <td>0.005025</td>\n      <td>0.01116</td>\n      <td>...</td>\n      <td>10.65</td>\n      <td>22.88</td>\n      <td>67.88</td>\n      <td>347.3</td>\n      <td>0.1265</td>\n      <td>0.12000</td>\n      <td>0.01005</td>\n      <td>0.02232</td>\n      <td>0.2262</td>\n      <td>0.06742</td>\n    </tr>\n    <tr>\n      <th>383</th>\n      <td>90251</td>\n      <td>B</td>\n      <td>12.390</td>\n      <td>17.48</td>\n      <td>80.64</td>\n      <td>462.9</td>\n      <td>0.10420</td>\n      <td>0.12970</td>\n      <td>0.058920</td>\n      <td>0.02880</td>\n      <td>...</td>\n      <td>14.18</td>\n      <td>23.13</td>\n      <td>95.23</td>\n      <td>600.5</td>\n      <td>0.1427</td>\n      <td>0.35930</td>\n      <td>0.32060</td>\n      <td>0.09804</td>\n      <td>0.2819</td>\n      <td>0.11180</td>\n    </tr>\n    <tr>\n      <th>490</th>\n      <td>91376701</td>\n      <td>B</td>\n      <td>12.250</td>\n      <td>22.44</td>\n      <td>78.18</td>\n      <td>466.5</td>\n      <td>0.08192</td>\n      <td>0.05200</td>\n      <td>0.017140</td>\n      <td>0.01261</td>\n      <td>...</td>\n      <td>14.17</td>\n      <td>31.99</td>\n      <td>92.74</td>\n      <td>622.9</td>\n      <td>0.1256</td>\n      <td>0.18040</td>\n      <td>0.12300</td>\n      <td>0.06335</td>\n      <td>0.3100</td>\n      <td>0.08203</td>\n    </tr>\n    <tr>\n      <th>552</th>\n      <td>924084</td>\n      <td>B</td>\n      <td>12.770</td>\n      <td>29.43</td>\n      <td>81.35</td>\n      <td>507.9</td>\n      <td>0.08276</td>\n      <td>0.04234</td>\n      <td>0.019970</td>\n      <td>0.01499</td>\n      <td>...</td>\n      <td>13.87</td>\n      <td>36.00</td>\n      <td>88.10</td>\n      <td>594.7</td>\n      <td>0.1234</td>\n      <td>0.10640</td>\n      <td>0.08653</td>\n      <td>0.06498</td>\n      <td>0.2407</td>\n      <td>0.06484</td>\n    </tr>\n    <tr>\n      <th>35</th>\n      <td>854253</td>\n      <td>M</td>\n      <td>16.740</td>\n      <td>21.59</td>\n      <td>110.10</td>\n      <td>869.5</td>\n      <td>0.09610</td>\n      <td>0.13360</td>\n      <td>0.134800</td>\n      <td>0.06018</td>\n      <td>...</td>\n      <td>20.01</td>\n      <td>29.02</td>\n      <td>133.50</td>\n      <td>1229.0</td>\n      <td>0.1563</td>\n      <td>0.38350</td>\n      <td>0.54090</td>\n      <td>0.18130</td>\n      <td>0.4863</td>\n      <td>0.08633</td>\n    </tr>\n    <tr>\n      <th>140</th>\n      <td>868999</td>\n      <td>B</td>\n      <td>9.738</td>\n      <td>11.97</td>\n      <td>61.24</td>\n      <td>288.5</td>\n      <td>0.09250</td>\n      <td>0.04102</td>\n      <td>0.000000</td>\n      <td>0.00000</td>\n      <td>...</td>\n      <td>10.62</td>\n      <td>14.10</td>\n      <td>66.53</td>\n      <td>342.9</td>\n      <td>0.1234</td>\n      <td>0.07204</td>\n      <td>0.00000</td>\n      <td>0.00000</td>\n      <td>0.3105</td>\n      <td>0.08151</td>\n    </tr>\n    <tr>\n      <th>238</th>\n      <td>883270</td>\n      <td>B</td>\n      <td>14.220</td>\n      <td>27.85</td>\n      <td>92.55</td>\n      <td>623.9</td>\n      <td>0.08223</td>\n      <td>0.10390</td>\n      <td>0.110300</td>\n      <td>0.04408</td>\n      <td>...</td>\n      <td>15.75</td>\n      <td>40.54</td>\n      <td>102.50</td>\n      <td>764.0</td>\n      <td>0.1081</td>\n      <td>0.24260</td>\n      <td>0.30640</td>\n      <td>0.08219</td>\n      <td>0.1890</td>\n      <td>0.07796</td>\n    </tr>\n    <tr>\n      <th>254</th>\n      <td>886226</td>\n      <td>M</td>\n      <td>19.450</td>\n      <td>19.33</td>\n      <td>126.50</td>\n      <td>1169.0</td>\n      <td>0.10350</td>\n      <td>0.11880</td>\n      <td>0.137900</td>\n      <td>0.08591</td>\n      <td>...</td>\n      <td>25.70</td>\n      <td>24.57</td>\n      <td>163.10</td>\n      <td>1972.0</td>\n      <td>0.1497</td>\n      <td>0.31610</td>\n      <td>0.43170</td>\n      <td>0.19990</td>\n      <td>0.3379</td>\n      <td>0.08950</td>\n    </tr>\n  </tbody>\n</table>\n<p>8 rows × 32 columns</p>\n</div>"
     },
     "metadata": {},
     "execution_count": 5
    }
   ],
   "source": [
    "data.sample(8)"
   ]
  },
  {
   "cell_type": "code",
   "execution_count": 6,
   "metadata": {},
   "outputs": [
    {
     "output_type": "execute_result",
     "data": {
      "text/plain": "           id  diagnosis  radius_mean  texture_mean  perimeter_mean  \\\n254    886226          1       19.450         19.33          126.50   \n15   84799002          1       14.540         27.54           96.73   \n201    877989          1       17.540         19.32          115.10   \n173    871641          0       11.080         14.71           70.21   \n175    872113          0        8.671         14.45           54.42   \n370   9012315          1       16.350         23.29          109.00   \n296    891936          0       10.910         12.35           69.14   \n377   9013579          0       13.460         28.21           85.89   \n\n     area_mean  smoothness_mean  compactness_mean  concavity_mean  \\\n254     1169.0          0.10350           0.11880         0.13790   \n15       658.8          0.11390           0.15950         0.16390   \n201      951.6          0.08968           0.11980         0.10360   \n173      372.7          0.10060           0.05743         0.02363   \n175      227.2          0.09138           0.04276         0.00000   \n370      840.4          0.09742           0.14970         0.18110   \n296      363.7          0.08518           0.04721         0.01236   \n377      562.1          0.07517           0.04726         0.01271   \n\n     concave points_mean  ...  radius_worst  texture_worst  perimeter_worst  \\\n254              0.08591  ...        25.700          24.57           163.10   \n15               0.07364  ...        17.460          37.13           124.10   \n201              0.07488  ...        20.420          25.84           139.50   \n173              0.02583  ...        11.350          16.82            72.01   \n175              0.00000  ...         9.262          17.04            58.36   \n370              0.08773  ...        19.380          31.03           129.30   \n296              0.01369  ...        11.370          14.82            72.42   \n377              0.01117  ...        14.690          35.63            97.11   \n\n     area_worst  smoothness_worst  compactness_worst  concavity_worst  \\\n254      1972.0           0.14970            0.31610          0.43170   \n15        943.2           0.16780            0.65770          0.70260   \n201      1239.0           0.13810            0.34200          0.35080   \n173       396.5           0.12160            0.08240          0.03938   \n175       259.2           0.11620            0.07057          0.00000   \n370      1165.0           0.14150            0.46650          0.70870   \n296       392.2           0.09312            0.07506          0.02884   \n377       680.6           0.11080            0.14570          0.07934   \n\n     concave points_worst  symmetry_worst  fractal_dimension_worst  \n254               0.19990          0.3379                  0.08950  \n15                0.17120          0.4218                  0.13410  \n201               0.19390          0.2928                  0.07867  \n173               0.04306          0.1902                  0.07313  \n175               0.00000          0.2592                  0.07848  \n370               0.22480          0.4824                  0.09614  \n296               0.03194          0.2143                  0.06643  \n377               0.05781          0.2694                  0.07061  \n\n[8 rows x 32 columns]",
      "text/html": "<div>\n<style scoped>\n    .dataframe tbody tr th:only-of-type {\n        vertical-align: middle;\n    }\n\n    .dataframe tbody tr th {\n        vertical-align: top;\n    }\n\n    .dataframe thead th {\n        text-align: right;\n    }\n</style>\n<table border=\"1\" class=\"dataframe\">\n  <thead>\n    <tr style=\"text-align: right;\">\n      <th></th>\n      <th>id</th>\n      <th>diagnosis</th>\n      <th>radius_mean</th>\n      <th>texture_mean</th>\n      <th>perimeter_mean</th>\n      <th>area_mean</th>\n      <th>smoothness_mean</th>\n      <th>compactness_mean</th>\n      <th>concavity_mean</th>\n      <th>concave points_mean</th>\n      <th>...</th>\n      <th>radius_worst</th>\n      <th>texture_worst</th>\n      <th>perimeter_worst</th>\n      <th>area_worst</th>\n      <th>smoothness_worst</th>\n      <th>compactness_worst</th>\n      <th>concavity_worst</th>\n      <th>concave points_worst</th>\n      <th>symmetry_worst</th>\n      <th>fractal_dimension_worst</th>\n    </tr>\n  </thead>\n  <tbody>\n    <tr>\n      <th>254</th>\n      <td>886226</td>\n      <td>1</td>\n      <td>19.450</td>\n      <td>19.33</td>\n      <td>126.50</td>\n      <td>1169.0</td>\n      <td>0.10350</td>\n      <td>0.11880</td>\n      <td>0.13790</td>\n      <td>0.08591</td>\n      <td>...</td>\n      <td>25.700</td>\n      <td>24.57</td>\n      <td>163.10</td>\n      <td>1972.0</td>\n      <td>0.14970</td>\n      <td>0.31610</td>\n      <td>0.43170</td>\n      <td>0.19990</td>\n      <td>0.3379</td>\n      <td>0.08950</td>\n    </tr>\n    <tr>\n      <th>15</th>\n      <td>84799002</td>\n      <td>1</td>\n      <td>14.540</td>\n      <td>27.54</td>\n      <td>96.73</td>\n      <td>658.8</td>\n      <td>0.11390</td>\n      <td>0.15950</td>\n      <td>0.16390</td>\n      <td>0.07364</td>\n      <td>...</td>\n      <td>17.460</td>\n      <td>37.13</td>\n      <td>124.10</td>\n      <td>943.2</td>\n      <td>0.16780</td>\n      <td>0.65770</td>\n      <td>0.70260</td>\n      <td>0.17120</td>\n      <td>0.4218</td>\n      <td>0.13410</td>\n    </tr>\n    <tr>\n      <th>201</th>\n      <td>877989</td>\n      <td>1</td>\n      <td>17.540</td>\n      <td>19.32</td>\n      <td>115.10</td>\n      <td>951.6</td>\n      <td>0.08968</td>\n      <td>0.11980</td>\n      <td>0.10360</td>\n      <td>0.07488</td>\n      <td>...</td>\n      <td>20.420</td>\n      <td>25.84</td>\n      <td>139.50</td>\n      <td>1239.0</td>\n      <td>0.13810</td>\n      <td>0.34200</td>\n      <td>0.35080</td>\n      <td>0.19390</td>\n      <td>0.2928</td>\n      <td>0.07867</td>\n    </tr>\n    <tr>\n      <th>173</th>\n      <td>871641</td>\n      <td>0</td>\n      <td>11.080</td>\n      <td>14.71</td>\n      <td>70.21</td>\n      <td>372.7</td>\n      <td>0.10060</td>\n      <td>0.05743</td>\n      <td>0.02363</td>\n      <td>0.02583</td>\n      <td>...</td>\n      <td>11.350</td>\n      <td>16.82</td>\n      <td>72.01</td>\n      <td>396.5</td>\n      <td>0.12160</td>\n      <td>0.08240</td>\n      <td>0.03938</td>\n      <td>0.04306</td>\n      <td>0.1902</td>\n      <td>0.07313</td>\n    </tr>\n    <tr>\n      <th>175</th>\n      <td>872113</td>\n      <td>0</td>\n      <td>8.671</td>\n      <td>14.45</td>\n      <td>54.42</td>\n      <td>227.2</td>\n      <td>0.09138</td>\n      <td>0.04276</td>\n      <td>0.00000</td>\n      <td>0.00000</td>\n      <td>...</td>\n      <td>9.262</td>\n      <td>17.04</td>\n      <td>58.36</td>\n      <td>259.2</td>\n      <td>0.11620</td>\n      <td>0.07057</td>\n      <td>0.00000</td>\n      <td>0.00000</td>\n      <td>0.2592</td>\n      <td>0.07848</td>\n    </tr>\n    <tr>\n      <th>370</th>\n      <td>9012315</td>\n      <td>1</td>\n      <td>16.350</td>\n      <td>23.29</td>\n      <td>109.00</td>\n      <td>840.4</td>\n      <td>0.09742</td>\n      <td>0.14970</td>\n      <td>0.18110</td>\n      <td>0.08773</td>\n      <td>...</td>\n      <td>19.380</td>\n      <td>31.03</td>\n      <td>129.30</td>\n      <td>1165.0</td>\n      <td>0.14150</td>\n      <td>0.46650</td>\n      <td>0.70870</td>\n      <td>0.22480</td>\n      <td>0.4824</td>\n      <td>0.09614</td>\n    </tr>\n    <tr>\n      <th>296</th>\n      <td>891936</td>\n      <td>0</td>\n      <td>10.910</td>\n      <td>12.35</td>\n      <td>69.14</td>\n      <td>363.7</td>\n      <td>0.08518</td>\n      <td>0.04721</td>\n      <td>0.01236</td>\n      <td>0.01369</td>\n      <td>...</td>\n      <td>11.370</td>\n      <td>14.82</td>\n      <td>72.42</td>\n      <td>392.2</td>\n      <td>0.09312</td>\n      <td>0.07506</td>\n      <td>0.02884</td>\n      <td>0.03194</td>\n      <td>0.2143</td>\n      <td>0.06643</td>\n    </tr>\n    <tr>\n      <th>377</th>\n      <td>9013579</td>\n      <td>0</td>\n      <td>13.460</td>\n      <td>28.21</td>\n      <td>85.89</td>\n      <td>562.1</td>\n      <td>0.07517</td>\n      <td>0.04726</td>\n      <td>0.01271</td>\n      <td>0.01117</td>\n      <td>...</td>\n      <td>14.690</td>\n      <td>35.63</td>\n      <td>97.11</td>\n      <td>680.6</td>\n      <td>0.11080</td>\n      <td>0.14570</td>\n      <td>0.07934</td>\n      <td>0.05781</td>\n      <td>0.2694</td>\n      <td>0.07061</td>\n    </tr>\n  </tbody>\n</table>\n<p>8 rows × 32 columns</p>\n</div>"
     },
     "metadata": {},
     "execution_count": 6
    }
   ],
   "source": [
    "data['diagnosis'] = data['diagnosis'].apply(lambda x: ((x ==\"M\"))+0)\n",
    "data.sample(8)"
   ]
  },
  {
   "cell_type": "code",
   "execution_count": 7,
   "metadata": {},
   "outputs": [],
   "source": [
    "#data split in three sets, training, validation and batch inference\n",
    "rand_split = np.random.rand(len(data))\n",
    "train_list = rand_split < 0.8\n",
    "val_list = (rand_split >= 0.8) & (rand_split < 0.9)\n",
    "batch_list = rand_split >= 0.9\n",
    "\n",
    "data_train = data[train_list].drop(['id'],axis=1)\n",
    "data_val = data[val_list].drop(['id'],axis=1)\n",
    "data_batch = data[batch_list].drop(['diagnosis'],axis=1)\n",
    "data_batch_noID = data_batch.drop(['id'],axis=1)"
   ]
  },
  {
   "cell_type": "markdown",
   "metadata": {},
   "source": [
    "## Setup"
   ]
  },
  {
   "cell_type": "code",
   "execution_count": 8,
   "metadata": {},
   "outputs": [],
   "source": [
    "import boto3, os, sagemaker"
   ]
  },
  {
   "cell_type": "code",
   "execution_count": 9,
   "metadata": {},
   "outputs": [],
   "source": [
    "sess = sagemaker.Session()"
   ]
  },
  {
   "cell_type": "code",
   "execution_count": 10,
   "metadata": {},
   "outputs": [],
   "source": [
    "# bucket = sess.default_bucket() # 'sagemaker-ap-northeast-1-078451633032'\n",
    "bucket = 'dge-sagemaker-test'\n",
    "prefix = 'breast-cancer-prediction-xgboost'"
   ]
  },
  {
   "cell_type": "code",
   "execution_count": 11,
   "metadata": {},
   "outputs": [
    {
     "output_type": "execute_result",
     "data": {
      "text/plain": "'s3://dge-sagemaker-test/breast-cancer-prediction-xgboost/train/train_data.csv'"
     },
     "metadata": {},
     "execution_count": 11
    }
   ],
   "source": [
    "train_file = 'train_data.csv'\n",
    "data_train.to_csv(train_file, index=False, header=False)\n",
    "sess.upload_data(train_file, bucket=bucket, key_prefix=f'{prefix}/train')\n",
    "# boto3.Session().resource('s3').Bucket(bucket).Object(f'{prefix}/train/{train_file}').upload_file(train_file)"
   ]
  },
  {
   "cell_type": "code",
   "execution_count": 12,
   "metadata": {},
   "outputs": [
    {
     "output_type": "execute_result",
     "data": {
      "text/plain": "'s3://dge-sagemaker-test/breast-cancer-prediction-xgboost/validation/validation_data.csv'"
     },
     "metadata": {},
     "execution_count": 12
    }
   ],
   "source": [
    "validation_file = 'validation_data.csv'\n",
    "data_val.to_csv(validation_file, index=False, header=False)\n",
    "sess.upload_data(validation_file, bucket=bucket, key_prefix=f'{prefix}/validation')"
   ]
  },
  {
   "cell_type": "code",
   "execution_count": 13,
   "metadata": {},
   "outputs": [
    {
     "output_type": "execute_result",
     "data": {
      "text/plain": "'s3://dge-sagemaker-test/breast-cancer-prediction-xgboost/batch/batch_data.csv'"
     },
     "metadata": {},
     "execution_count": 13
    }
   ],
   "source": [
    "batch_file = 'batch_data.csv'\n",
    "data_batch.to_csv(batch_file, index=False, header=False)\n",
    "sess.upload_data(batch_file, bucket=bucket, key_prefix=f'{prefix}/batch')"
   ]
  },
  {
   "cell_type": "code",
   "execution_count": 14,
   "metadata": {},
   "outputs": [
    {
     "output_type": "execute_result",
     "data": {
      "text/plain": "'s3://dge-sagemaker-test/breast-cancer-prediction-xgboost/batch/batch_data_noID.csv'"
     },
     "metadata": {},
     "execution_count": 14
    }
   ],
   "source": [
    "batch_file_noID = 'batch_data_noID.csv'\n",
    "data_batch_noID.to_csv(batch_file_noID, index=False, header=False)\n",
    "sess.upload_data(batch_file_noID, bucket=bucket, key_prefix=f'{prefix}/batch')"
   ]
  },
  {
   "cell_type": "code",
   "execution_count": 15,
   "metadata": {},
   "outputs": [],
   "source": [
    "# role = sagemaker.get_execution_role()   # Sagemakerのノートブックインスタンスで実行する場合\n",
    "role = 'arn:aws:iam::078451633032:role/service-role/AmazonSageMaker-ExecutionRole-20191003T162893'"
   ]
  },
  {
   "cell_type": "markdown",
   "metadata": {},
   "source": [
    "## Training job"
   ]
  },
  {
   "cell_type": "code",
   "execution_count": 24,
   "metadata": {},
   "outputs": [],
   "source": [
    "output_location = f's3://{bucket}/{prefix}'"
   ]
  },
  {
   "cell_type": "code",
   "execution_count": 25,
   "metadata": {
    "tags": []
   },
   "outputs": [
    {
     "output_type": "stream",
     "name": "stderr",
     "text": "WARNING:sagemaker.amazon.amazon_estimator:'get_image_uri' method will be deprecated in favor of 'ImageURIProvider' class in SageMaker Python SDK v2.\n"
    }
   ],
   "source": [
    "# ECRのXGBoostコンテナイメージ取得\n",
    "from sagemaker.amazon.amazon_estimator import get_image_uri\n",
    "\n",
    "image = get_image_uri(boto3.Session().region_name, 'xgboost', '1.0-1')"
   ]
  },
  {
   "cell_type": "code",
   "execution_count": 26,
   "metadata": {
    "tags": []
   },
   "outputs": [
    {
     "output_type": "stream",
     "name": "stderr",
     "text": "WARNING:root:Parameter image_name will be renamed to image_uri in SageMaker Python SDK v2.\n"
    }
   ],
   "source": [
    "sm_estimator = sagemaker.estimator.Estimator(image,\n",
    "                                             role,\n",
    "                                             train_instance_count=1,\n",
    "                                             train_instance_type='ml.m5.4xlarge',\n",
    "                                             train_volume_size=50,\n",
    "                                             input_mode='File',\n",
    "                                             output_path=output_location,\n",
    "                                             sagemaker_session=sess)"
   ]
  },
  {
   "cell_type": "code",
   "execution_count": 27,
   "metadata": {},
   "outputs": [],
   "source": [
    "sm_estimator.set_hyperparameters(objective=\"binary:logistic\",\n",
    "                                 max_depth=5,\n",
    "                                 eta=0.2,\n",
    "                                 gamma=4,\n",
    "                                 min_child_weight=6,\n",
    "                                 subsample=0.8,\n",
    "                                 silent=0,\n",
    "                                 num_round=100)"
   ]
  },
  {
   "cell_type": "code",
   "execution_count": 28,
   "metadata": {
    "tags": []
   },
   "outputs": [
    {
     "output_type": "stream",
     "name": "stderr",
     "text": "WARNING:sagemaker:'s3_input' class will be renamed to 'TrainingInput' in SageMaker Python SDK v2.\nWARNING:sagemaker:'s3_input' class will be renamed to 'TrainingInput' in SageMaker Python SDK v2.\n"
    }
   ],
   "source": [
    "train_data = sagemaker.session.s3_input(f's3://{bucket}/{prefix}/train', distribution='FullyReplicated', content_type='text/csv', s3_data_type='S3Prefix')\n",
    "validation_data = sagemaker.session.s3_input(f's3://{bucket}/{prefix}/validation', distribution='FullyReplicated', content_type='text/csv', s3_data_type='S3Prefix')\n",
    "data_channels = {'train': train_data, 'validation': validation_data}"
   ]
  },
  {
   "cell_type": "code",
   "execution_count": 29,
   "metadata": {
    "tags": []
   },
   "outputs": [
    {
     "output_type": "stream",
     "name": "stdout",
     "text": "2020-07-10 06:02:52 Starting - Starting the training job...\n2020-07-10 06:02:55 Starting - Launching requested ML instances......\n2020-07-10 06:04:10 Starting - Preparing the instances for training...\n2020-07-10 06:04:46 Downloading - Downloading input data...\n2020-07-10 06:05:19 Training - Training image download completed. Training in progress..\u001b[34mINFO:sagemaker-containers:Imported framework sagemaker_xgboost_container.training\u001b[0m\n\u001b[34mINFO:sagemaker-containers:Failed to parse hyperparameter objective value binary:logistic to Json.\u001b[0m\n\u001b[34mReturning the value itself\u001b[0m\n\u001b[34mINFO:sagemaker-containers:No GPUs detected (normal if no gpus installed)\u001b[0m\n\u001b[34mINFO:sagemaker_xgboost_container.training:Running XGBoost Sagemaker in algorithm mode\u001b[0m\n\u001b[34mINFO:root:Determined delimiter of CSV input is ','\u001b[0m\n\u001b[34mINFO:root:Determined delimiter of CSV input is ','\u001b[0m\n\u001b[34mINFO:root:Determined delimiter of CSV input is ','\u001b[0m\n\u001b[34m[06:05:20] 449x30 matrix with 13470 entries loaded from /opt/ml/input/data/train?format=csv&label_column=0&delimiter=,\u001b[0m\n\u001b[34mINFO:root:Determined delimiter of CSV input is ','\u001b[0m\n\u001b[34m[06:05:20] 59x30 matrix with 1770 entries loaded from /opt/ml/input/data/validation?format=csv&label_column=0&delimiter=,\u001b[0m\n\u001b[34mINFO:root:Single node training.\u001b[0m\n\u001b[34mINFO:root:Train matrix has 449 rows\u001b[0m\n\u001b[34mINFO:root:Validation matrix has 59 rows\u001b[0m\n\u001b[34m[06:05:20] WARNING: /workspace/src/learner.cc:328: \u001b[0m\n\u001b[34mParameters: { num_round, silent } might not be used.\n\n  This may not be accurate due to some parameters are only used in language bindings but\n  passed down to XGBoost core.  Or some parameters are not used but slip through this\n  verification. Please open an issue if you find above cases.\n\n\u001b[0m\n\u001b[34m[0]#011train-error:0.05345#011validation-error:0.08475\u001b[0m\n\u001b[34m[1]#011train-error:0.05345#011validation-error:0.08475\u001b[0m\n\u001b[34m[2]#011train-error:0.04009#011validation-error:0.08475\u001b[0m\n\u001b[34m[3]#011train-error:0.03564#011validation-error:0.06780\u001b[0m\n\u001b[34m[4]#011train-error:0.03118#011validation-error:0.06780\u001b[0m\n\u001b[34m[5]#011train-error:0.03786#011validation-error:0.08475\u001b[0m\n\u001b[34m[6]#011train-error:0.03118#011validation-error:0.06780\u001b[0m\n\u001b[34m[7]#011train-error:0.04454#011validation-error:0.08475\u001b[0m\n\u001b[34m[8]#011train-error:0.02673#011validation-error:0.06780\u001b[0m\n\u001b[34m[9]#011train-error:0.03786#011validation-error:0.08475\u001b[0m\n\u001b[34m[10]#011train-error:0.03118#011validation-error:0.06780\u001b[0m\n\u001b[34m[11]#011train-error:0.02673#011validation-error:0.06780\u001b[0m\n\u001b[34m[12]#011train-error:0.02227#011validation-error:0.06780\u001b[0m\n\u001b[34m[13]#011train-error:0.02005#011validation-error:0.06780\u001b[0m\n\u001b[34m[14]#011train-error:0.02005#011validation-error:0.06780\u001b[0m\n\u001b[34m[15]#011train-error:0.01782#011validation-error:0.06780\u001b[0m\n\u001b[34m[16]#011train-error:0.01559#011validation-error:0.06780\u001b[0m\n\u001b[34m[17]#011train-error:0.01559#011validation-error:0.06780\u001b[0m\n\u001b[34m[18]#011train-error:0.01559#011validation-error:0.06780\u001b[0m\n\u001b[34m[19]#011train-error:0.01559#011validation-error:0.06780\u001b[0m\n\u001b[34m[20]#011train-error:0.01559#011validation-error:0.06780\u001b[0m\n\u001b[34m[21]#011train-error:0.01336#011validation-error:0.06780\u001b[0m\n\u001b[34m[22]#011train-error:0.01336#011validation-error:0.06780\u001b[0m\n\u001b[34m[23]#011train-error:0.01336#011validation-error:0.06780\u001b[0m\n\u001b[34m[24]#011train-error:0.01336#011validation-error:0.06780\u001b[0m\n\u001b[34m[25]#011train-error:0.01782#011validation-error:0.06780\u001b[0m\n\u001b[34m[26]#011train-error:0.01559#011validation-error:0.06780\u001b[0m\n\u001b[34m[27]#011train-error:0.01559#011validation-error:0.06780\u001b[0m\n\u001b[34m[28]#011train-error:0.01782#011validation-error:0.06780\u001b[0m\n\u001b[34m[29]#011train-error:0.01559#011validation-error:0.06780\u001b[0m\n\u001b[34m[30]#011train-error:0.01559#011validation-error:0.06780\u001b[0m\n\u001b[34m[31]#011train-error:0.01559#011validation-error:0.06780\u001b[0m\n\u001b[34m[32]#011train-error:0.01559#011validation-error:0.06780\u001b[0m\n\u001b[34m[33]#011train-error:0.01559#011validation-error:0.06780\u001b[0m\n\u001b[34m[34]#011train-error:0.01559#011validation-error:0.06780\u001b[0m\n\u001b[34m[35]#011train-error:0.01559#011validation-error:0.06780\u001b[0m\n\u001b[34m[36]#011train-error:0.01114#011validation-error:0.06780\u001b[0m\n\u001b[34m[37]#011train-error:0.01114#011validation-error:0.06780\u001b[0m\n\u001b[34m[38]#011train-error:0.01114#011validation-error:0.06780\u001b[0m\n\u001b[34m[39]#011train-error:0.01114#011validation-error:0.06780\u001b[0m\n\u001b[34m[40]#011train-error:0.01114#011validation-error:0.06780\u001b[0m\n\u001b[34m[41]#011train-error:0.01114#011validation-error:0.06780\u001b[0m\n\u001b[34m[42]#011train-error:0.01114#011validation-error:0.06780\u001b[0m\n\u001b[34m[43]#011train-error:0.01114#011validation-error:0.06780\u001b[0m\n\u001b[34m[44]#011train-error:0.01114#011validation-error:0.06780\u001b[0m\n\u001b[34m[45]#011train-error:0.01114#011validation-error:0.06780\u001b[0m\n\u001b[34m[46]#011train-error:0.01114#011validation-error:0.06780\u001b[0m\n\u001b[34m[47]#011train-error:0.01114#011validation-error:0.06780\u001b[0m\n\u001b[34m[48]#011train-error:0.01114#011validation-error:0.06780\u001b[0m\n\u001b[34m[49]#011train-error:0.01114#011validation-error:0.06780\u001b[0m\n\u001b[34m[50]#011train-error:0.01114#011validation-error:0.06780\u001b[0m\n\u001b[34m[51]#011train-error:0.01114#011validation-error:0.06780\u001b[0m\n\u001b[34m[52]#011train-error:0.01114#011validation-error:0.06780\u001b[0m\n\u001b[34m[53]#011train-error:0.01114#011validation-error:0.06780\u001b[0m\n\u001b[34m[54]#011train-error:0.01114#011validation-error:0.06780\u001b[0m\n\u001b[34m[55]#011train-error:0.01114#011validation-error:0.06780\u001b[0m\n\u001b[34m[56]#011train-error:0.01114#011validation-error:0.06780\u001b[0m\n\u001b[34m[57]#011train-error:0.01114#011validation-error:0.06780\u001b[0m\n\u001b[34m[58]#011train-error:0.01114#011validation-error:0.06780\u001b[0m\n\u001b[34m[59]#011train-error:0.01114#011validation-error:0.06780\u001b[0m\n\u001b[34m[60]#011train-error:0.01114#011validation-error:0.06780\u001b[0m\n\u001b[34m[61]#011train-error:0.01114#011validation-error:0.06780\u001b[0m\n\u001b[34m[62]#011train-error:0.01114#011validation-error:0.06780\u001b[0m\n\u001b[34m[63]#011train-error:0.01114#011validation-error:0.06780\u001b[0m\n\u001b[34m[64]#011train-error:0.01114#011validation-error:0.06780\u001b[0m\n\u001b[34m[65]#011train-error:0.01114#011validation-error:0.06780\u001b[0m\n\u001b[34m[66]#011train-error:0.01114#011validation-error:0.06780\u001b[0m\n\u001b[34m[67]#011train-error:0.01114#011validation-error:0.06780\u001b[0m\n\u001b[34m[68]#011train-error:0.01114#011validation-error:0.06780\u001b[0m\n\u001b[34m[69]#011train-error:0.01114#011validation-error:0.06780\u001b[0m\n\u001b[34m[70]#011train-error:0.01114#011validation-error:0.06780\u001b[0m\n\u001b[34m[71]#011train-error:0.01114#011validation-error:0.06780\u001b[0m\n\u001b[34m[72]#011train-error:0.01114#011validation-error:0.06780\u001b[0m\n\u001b[34m[73]#011train-error:0.01114#011validation-error:0.06780\u001b[0m\n\u001b[34m[74]#011train-error:0.01114#011validation-error:0.06780\u001b[0m\n\u001b[34m[75]#011train-error:0.01114#011validation-error:0.06780\u001b[0m\n\u001b[34m[76]#011train-error:0.01114#011validation-error:0.06780\u001b[0m\n\u001b[34m[77]#011train-error:0.01114#011validation-error:0.06780\u001b[0m\n\u001b[34m[78]#011train-error:0.01114#011validation-error:0.06780\u001b[0m\n\u001b[34m[79]#011train-error:0.01114#011validation-error:0.06780\u001b[0m\n\u001b[34m[80]#011train-error:0.01114#011validation-error:0.06780\u001b[0m\n\u001b[34m[81]#011train-error:0.01114#011validation-error:0.06780\u001b[0m\n\u001b[34m[82]#011train-error:0.01114#011validation-error:0.06780\u001b[0m\n\u001b[34m[83]#011train-error:0.01114#011validation-error:0.06780\u001b[0m\n\u001b[34m[84]#011train-error:0.01114#011validation-error:0.06780\u001b[0m\n\u001b[34m[85]#011train-error:0.01114#011validation-error:0.06780\u001b[0m\n\u001b[34m[86]#011train-error:0.01114#011validation-error:0.06780\u001b[0m\n\u001b[34m[87]#011train-error:0.01114#011validation-error:0.06780\u001b[0m\n\u001b[34m[88]#011train-error:0.01114#011validation-error:0.06780\u001b[0m\n\u001b[34m[89]#011train-error:0.01114#011validation-error:0.06780\u001b[0m\n\u001b[34m[90]#011train-error:0.01114#011validation-error:0.06780\u001b[0m\n\u001b[34m[91]#011train-error:0.01114#011validation-error:0.06780\u001b[0m\n\u001b[34m[92]#011train-error:0.01114#011validation-error:0.06780\u001b[0m\n\u001b[34m[93]#011train-error:0.01114#011validation-error:0.06780\u001b[0m\n\u001b[34m[94]#011train-error:0.01336#011validation-error:0.06780\u001b[0m\n\u001b[34m[95]#011train-error:0.01114#011validation-error:0.06780\u001b[0m\n\u001b[34m[96]#011train-error:0.01114#011validation-error:0.06780\u001b[0m\n\u001b[34m[97]#011train-error:0.01114#011validation-error:0.06780\u001b[0m\n\u001b[34m[98]#011train-error:0.01114#011validation-error:0.06780\u001b[0m\n\u001b[34m[99]#011train-error:0.01114#011validation-error:0.06780\u001b[0m\n\n2020-07-10 06:05:32 Uploading - Uploading generated training model\n2020-07-10 06:05:32 Completed - Training job completed\nTraining seconds: 46\nBillable seconds: 46\nWall time: 3min 12s\n"
    }
   ],
   "source": [
    "%%time\n",
    "sm_estimator.fit(inputs=data_channels, logs=True)"
   ]
  },
  {
   "cell_type": "markdown",
   "metadata": {},
   "source": [
    "## Batch Transform"
   ]
  },
  {
   "cell_type": "markdown",
   "metadata": {},
   "source": [
    "### Create a transform job with the default configurations"
   ]
  },
  {
   "cell_type": "code",
   "execution_count": 43,
   "metadata": {
    "tags": []
   },
   "outputs": [
    {
     "output_type": "stream",
     "name": "stderr",
     "text": "WARNING:sagemaker:Parameter image will be renamed to image_uri in SageMaker Python SDK v2.\nWARNING:sagemaker:Using already existing model: sagemaker-xgboost-2020-07-10-06-02-53-004\n"
    }
   ],
   "source": [
    "sm_transformer = sm_estimator.transformer(1, 'ml.m4.xlarge', assemble_with = 'Line', accept = 'text/csv', output_path=f's3://{bucket}/{prefix}/output')"
   ]
  },
  {
   "cell_type": "code",
   "execution_count": 34,
   "metadata": {
    "tags": []
   },
   "outputs": [
    {
     "output_type": "stream",
     "name": "stdout",
     "text": "......................\u001b[34m[2020-07-10:06:43:06:INFO] No GPUs detected (normal if no gpus installed)\u001b[0m\n\u001b[34m[2020-07-10:06:43:06:INFO] No GPUs detected (normal if no gpus installed)\u001b[0m\n\u001b[34m[2020-07-10:06:43:06:INFO] nginx config: \u001b[0m\n\u001b[34mworker_processes auto;\u001b[0m\n\u001b[34mdaemon off;\u001b[0m\n\u001b[34mpid /tmp/nginx.pid;\u001b[0m\n\u001b[34merror_log  /dev/stderr;\n\u001b[0m\n\u001b[34mworker_rlimit_nofile 4096;\n\u001b[0m\n\u001b[34mevents {\n  worker_connections 2048;\u001b[0m\n\u001b[34m}\n\u001b[0m\n\u001b[34mhttp {\n  include /etc/nginx/mime.types;\n  default_type application/octet-stream;\n  access_log /dev/stdout combined;\n\n  upstream gunicorn {\n    server unix:/tmp/gunicorn.sock;\n  }\n\n  server {\n    listen 8080 deferred;\n    client_max_body_size 0;\n\n    keepalive_timeout 3;\n\n    location ~ ^/(ping|invocations|execution-parameters) {\n      proxy_set_header X-Forwarded-For $proxy_add_x_forwarded_for;\n      proxy_set_header Host $http_host;\n      proxy_redirect off;\n      proxy_read_timeout 60s;\n      proxy_pass http://gunicorn;\n    }\n\n    location / {\n      return 404 \"{}\";\n    }\n\n  }\u001b[0m\n\u001b[34m}\n\n\u001b[0m\n\u001b[34m[2020-07-10 06:43:06 +0000] [21] [INFO] Starting gunicorn 19.10.0\u001b[0m\n\u001b[34m[2020-07-10 06:43:06 +0000] [21] [INFO] Listening at: unix:/tmp/gunicorn.sock (21)\u001b[0m\n\u001b[34m[2020-07-10 06:43:06 +0000] [21] [INFO] Using worker: gevent\u001b[0m\n\u001b[34m[2020-07-10 06:43:06 +0000] [28] [INFO] Booting worker with pid: 28\u001b[0m\n\u001b[34m[2020-07-10 06:43:06 +0000] [29] [INFO] Booting worker with pid: 29\u001b[0m\n\u001b[34m[2020-07-10 06:43:06 +0000] [30] [INFO] Booting worker with pid: 30\u001b[0m\n\u001b[34m[2020-07-10 06:43:06 +0000] [31] [INFO] Booting worker with pid: 31\u001b[0m\n\u001b[32m2020-07-10T06:43:35.967:[sagemaker logs]: MaxConcurrentTransforms=4, MaxPayloadInMB=6, BatchStrategy=MULTI_RECORD\u001b[0m\n\u001b[34m[2020-07-10:06:43:35:INFO] No GPUs detected (normal if no gpus installed)\u001b[0m\n\u001b[34m169.254.255.130 - - [10/Jul/2020:06:43:35 +0000] \"GET /ping HTTP/1.1\" 200 0 \"-\" \"Go-http-client/1.1\"\u001b[0m\n\u001b[34m[2020-07-10:06:43:35:INFO] No GPUs detected (normal if no gpus installed)\u001b[0m\n\u001b[34m169.254.255.130 - - [10/Jul/2020:06:43:35 +0000] \"GET /execution-parameters HTTP/1.1\" 200 84 \"-\" \"Go-http-client/1.1\"\u001b[0m\n\u001b[34m[2020-07-10:06:43:36:INFO] Determined delimiter of CSV input is ','\u001b[0m\n\u001b[34m169.254.255.130 - - [10/Jul/2020:06:43:36 +0000] \"POST /invocations HTTP/1.1\" 200 1223 \"-\" \"Go-http-client/1.1\"\u001b[0m\n\u001b[35m[2020-07-10:06:43:35:INFO] No GPUs detected (normal if no gpus installed)\u001b[0m\n\u001b[35m169.254.255.130 - - [10/Jul/2020:06:43:35 +0000] \"GET /ping HTTP/1.1\" 200 0 \"-\" \"Go-http-client/1.1\"\u001b[0m\n\u001b[35m[2020-07-10:06:43:35:INFO] No GPUs detected (normal if no gpus installed)\u001b[0m\n\u001b[35m169.254.255.130 - - [10/Jul/2020:06:43:35 +0000] \"GET /execution-parameters HTTP/1.1\" 200 84 \"-\" \"Go-http-client/1.1\"\u001b[0m\n\u001b[35m[2020-07-10:06:43:36:INFO] Determined delimiter of CSV input is ','\u001b[0m\n\u001b[35m169.254.255.130 - - [10/Jul/2020:06:43:36 +0000] \"POST /invocations HTTP/1.1\" 200 1223 \"-\" \"Go-http-client/1.1\"\u001b[0m\n\nWall time: 4min 45s\n"
    }
   ],
   "source": [
    "%%time\n",
    "# start a transform job\n",
    "# input_location = f's3://{bucket}/{prefix}/batch/{batch_file_noID}' # use input data without ID column\n",
    "input_location = f's3://{bucket}/{prefix}/batch/{batch_file}' # use input data with ID column\n",
    "# train_dataにはIDがないので、IDを外して推測し、出力時にIDを付加するフィルターを付ける\n",
    "sm_transformer.transform(input_location, split_type='Line', content_type='text/csv', input_filter='$[1:]', join_source='Input', output_filter='$[0,-1]')\n",
    "sm_transformer.wait()"
   ]
  },
  {
   "cell_type": "markdown",
   "metadata": {},
   "source": [
    "### 推論"
   ]
  },
  {
   "cell_type": "code",
   "execution_count": 35,
   "metadata": {},
   "outputs": [],
   "source": [
    "import json\n",
    "import io\n",
    "from urllib.parse import urlparse"
   ]
  },
  {
   "cell_type": "code",
   "execution_count": 36,
   "metadata": {},
   "outputs": [],
   "source": [
    "def get_csv_output_from_s3(s3uri, file_name):\n",
    "    parsed_url = urlparse(s3uri)\n",
    "    bucket_name = parsed_url.netloc\n",
    "    prefix = parsed_url.path[1:]\n",
    "    s3 = boto3.resource('s3')\n",
    "    obj = s3.Object(bucket_name, f'{prefix}/{file_name}')\n",
    "    return obj.get()[\"Body\"].read().decode('utf-8')"
   ]
  },
  {
   "cell_type": "code",
   "execution_count": 37,
   "metadata": {},
   "outputs": [
    {
     "output_type": "execute_result",
     "data": {
      "text/plain": "          0         1\n0    843786  0.444697\n1    844359  0.992445\n2  84458202  0.970348\n3  84501001  0.794606\n4    852781  0.983478\n5    857343  0.013051\n6    857374  0.006580\n7    858477  0.010140",
      "text/html": "<div>\n<style scoped>\n    .dataframe tbody tr th:only-of-type {\n        vertical-align: middle;\n    }\n\n    .dataframe tbody tr th {\n        vertical-align: top;\n    }\n\n    .dataframe thead th {\n        text-align: right;\n    }\n</style>\n<table border=\"1\" class=\"dataframe\">\n  <thead>\n    <tr style=\"text-align: right;\">\n      <th></th>\n      <th>0</th>\n      <th>1</th>\n    </tr>\n  </thead>\n  <tbody>\n    <tr>\n      <th>0</th>\n      <td>843786</td>\n      <td>0.444697</td>\n    </tr>\n    <tr>\n      <th>1</th>\n      <td>844359</td>\n      <td>0.992445</td>\n    </tr>\n    <tr>\n      <th>2</th>\n      <td>84458202</td>\n      <td>0.970348</td>\n    </tr>\n    <tr>\n      <th>3</th>\n      <td>84501001</td>\n      <td>0.794606</td>\n    </tr>\n    <tr>\n      <th>4</th>\n      <td>852781</td>\n      <td>0.983478</td>\n    </tr>\n    <tr>\n      <th>5</th>\n      <td>857343</td>\n      <td>0.013051</td>\n    </tr>\n    <tr>\n      <th>6</th>\n      <td>857374</td>\n      <td>0.006580</td>\n    </tr>\n    <tr>\n      <th>7</th>\n      <td>858477</td>\n      <td>0.010140</td>\n    </tr>\n  </tbody>\n</table>\n</div>"
     },
     "metadata": {},
     "execution_count": 37
    }
   ],
   "source": [
    "output = get_csv_output_from_s3(sm_transformer.output_path, f'{batch_file}.out')\n",
    "output_df = pd.read_csv(io.StringIO(output), sep=\",\", header=None)\n",
    "output_df.head(8)"
   ]
  },
  {
   "cell_type": "markdown",
   "metadata": {},
   "source": [
    "### トレーニングジョブで出力されたモデルを読み込んで推論"
   ]
  },
  {
   "cell_type": "code",
   "execution_count": 55,
   "metadata": {},
   "outputs": [
    {
     "output_type": "execute_result",
     "data": {
      "text/plain": "'s3://dge-sagemaker-test/breast-cancer-prediction-xgboost/sagemaker-xgboost-2020-07-10-06-02-53-004/output/model.tar.gz'"
     },
     "metadata": {},
     "execution_count": 55
    }
   ],
   "source": [
    "sm_estimator.model_data"
   ]
  },
  {
   "cell_type": "code",
   "execution_count": 56,
   "metadata": {
    "tags": []
   },
   "outputs": [
    {
     "output_type": "stream",
     "name": "stderr",
     "text": "WARNING:sagemaker:Parameter image will be renamed to image_uri in SageMaker Python SDK v2.\n"
    }
   ],
   "source": [
    "model = sagemaker.model.Model(\n",
    "    sm_estimator.model_data,\n",
    "    image,\n",
    "    role=role,\n",
    "    sagemaker_session=sess)"
   ]
  },
  {
   "cell_type": "code",
   "execution_count": 57,
   "metadata": {},
   "outputs": [],
   "source": [
    "transformer = model.transformer(1, 'ml.m4.xlarge', assemble_with = 'Line', accept = 'text/csv', output_path=f's3://{bucket}/{prefix}/output')"
   ]
  },
  {
   "cell_type": "code",
   "execution_count": 58,
   "metadata": {
    "tags": []
   },
   "outputs": [
    {
     "output_type": "stream",
     "name": "stdout",
     "text": ".......................\u001b[34m[2020-07-10:07:51:00:INFO] No GPUs detected (normal if no gpus installed)\u001b[0m\n\u001b[34m[2020-07-10:07:51:00:INFO] No GPUs detected (normal if no gpus installed)\u001b[0m\n\u001b[34m[2020-07-10:07:51:00:INFO] nginx config: \u001b[0m\n\u001b[34mworker_processes auto;\u001b[0m\n\u001b[34mdaemon off;\u001b[0m\n\u001b[34mpid /tmp/nginx.pid;\u001b[0m\n\u001b[34merror_log  /dev/stderr;\n\u001b[0m\n\u001b[34mworker_rlimit_nofile 4096;\n\u001b[0m\n\u001b[34mevents {\n  worker_connections 2048;\u001b[0m\n\u001b[34m}\n\u001b[0m\n\u001b[34mhttp {\n  include /etc/nginx/mime.types;\n  default_type application/octet-stream;\n  access_log /dev/stdout combined;\n\n  upstream gunicorn {\n    server unix:/tmp/gunicorn.sock;\n  }\n\n  server {\n    listen 8080 deferred;\n    client_max_body_size 0;\n\n    keepalive_timeout 3;\n\n    location ~ ^/(ping|invocations|execution-parameters) {\n      proxy_set_header X-Forwarded-For $proxy_add_x_forwarded_for;\n      proxy_set_header Host $http_host;\n      proxy_redirect off;\n      proxy_read_timeout 60s;\n      proxy_pass http://gunicorn;\n    }\n\n    location / {\n      return 404 \"{}\";\n    }\n\n  }\u001b[0m\n\u001b[34m}\n\n\u001b[0m\n\u001b[34m[2020-07-10 07:51:00 +0000] [18] [INFO] Starting gunicorn 19.10.0\u001b[0m\n\u001b[34m[2020-07-10 07:51:00 +0000] [18] [INFO] Listening at: unix:/tmp/gunicorn.sock (18)\u001b[0m\n\u001b[34m[2020-07-10 07:51:00 +0000] [18] [INFO] Using worker: gevent\u001b[0m\n\u001b[34m[2020-07-10 07:51:00 +0000] [25] [INFO] Booting worker with pid: 25\u001b[0m\n\u001b[34m[2020-07-10 07:51:00 +0000] [26] [INFO] Booting worker with pid: 26\u001b[0m\n\u001b[34m[2020-07-10 07:51:00 +0000] [27] [INFO] Booting worker with pid: 27\u001b[0m\n\u001b[34m[2020-07-10 07:51:00 +0000] [28] [INFO] Booting worker with pid: 28\u001b[0m\n\u001b[34m[2020-07-10:07:51:31:INFO] No GPUs detected (normal if no gpus installed)\u001b[0m\n\u001b[34m169.254.255.130 - - [10/Jul/2020:07:51:31 +0000] \"GET /ping HTTP/1.1\" 200 0 \"-\" \"Go-http-client/1.1\"\u001b[0m\n\u001b[34m[2020-07-10:07:51:31:INFO] No GPUs detected (normal if no gpus installed)\u001b[0m\n\u001b[34m169.254.255.130 - - [10/Jul/2020:07:51:31 +0000] \"GET /execution-parameters HTTP/1.1\" 200 84 \"-\" \"Go-http-client/1.1\"\u001b[0m\n\u001b[34m[2020-07-10:07:51:31:INFO] No GPUs detected (normal if no gpus installed)\u001b[0m\n\u001b[34m[2020-07-10:07:51:31:INFO] Determined delimiter of CSV input is ','\u001b[0m\n\u001b[34m169.254.255.130 - - [10/Jul/2020:07:51:31 +0000] \"POST /invocations HTTP/1.1\" 200 1223 \"-\" \"Go-http-client/1.1\"\u001b[0m\n\u001b[35m[2020-07-10:07:51:31:INFO] No GPUs detected (normal if no gpus installed)\u001b[0m\n\u001b[35m169.254.255.130 - - [10/Jul/2020:07:51:31 +0000] \"GET /ping HTTP/1.1\" 200 0 \"-\" \"Go-http-client/1.1\"\u001b[0m\n\u001b[35m[2020-07-10:07:51:31:INFO] No GPUs detected (normal if no gpus installed)\u001b[0m\n\u001b[35m169.254.255.130 - - [10/Jul/2020:07:51:31 +0000] \"GET /execution-parameters HTTP/1.1\" 200 84 \"-\" \"Go-http-client/1.1\"\u001b[0m\n\u001b[35m[2020-07-10:07:51:31:INFO] No GPUs detected (normal if no gpus installed)\u001b[0m\n\u001b[35m[2020-07-10:07:51:31:INFO] Determined delimiter of CSV input is ','\u001b[0m\n\u001b[35m169.254.255.130 - - [10/Jul/2020:07:51:31 +0000] \"POST /invocations HTTP/1.1\" 200 1223 \"-\" \"Go-http-client/1.1\"\u001b[0m\n\u001b[32m2020-07-10T07:51:31.749:[sagemaker logs]: MaxConcurrentTransforms=4, MaxPayloadInMB=6, BatchStrategy=MULTI_RECORD\u001b[0m\n\nWall time: 4min 44s\n"
    }
   ],
   "source": [
    "%%time\n",
    "# start a transform job\n",
    "# input_location = f's3://{bucket}/{prefix}/batch/{batch_file_noID}' # use input data without ID column\n",
    "input_location = f's3://{bucket}/{prefix}/batch/{batch_file}' # use input data with ID column\n",
    "# train_dataにはIDがないので、IDを外して推測し、出力時にIDを付加するフィルターを付ける\n",
    "transformer.transform(input_location, split_type='Line', content_type='text/csv', input_filter='$[1:]', join_source='Input', output_filter='$[0,-1]')\n",
    "transformer.wait()"
   ]
  },
  {
   "cell_type": "code",
   "execution_count": 59,
   "metadata": {},
   "outputs": [
    {
     "output_type": "execute_result",
     "data": {
      "text/plain": "          0         1\n0    843786  0.444697\n1    844359  0.992445\n2  84458202  0.970348\n3  84501001  0.794606\n4    852781  0.983478\n5    857343  0.013051\n6    857374  0.006580\n7    858477  0.010140",
      "text/html": "<div>\n<style scoped>\n    .dataframe tbody tr th:only-of-type {\n        vertical-align: middle;\n    }\n\n    .dataframe tbody tr th {\n        vertical-align: top;\n    }\n\n    .dataframe thead th {\n        text-align: right;\n    }\n</style>\n<table border=\"1\" class=\"dataframe\">\n  <thead>\n    <tr style=\"text-align: right;\">\n      <th></th>\n      <th>0</th>\n      <th>1</th>\n    </tr>\n  </thead>\n  <tbody>\n    <tr>\n      <th>0</th>\n      <td>843786</td>\n      <td>0.444697</td>\n    </tr>\n    <tr>\n      <th>1</th>\n      <td>844359</td>\n      <td>0.992445</td>\n    </tr>\n    <tr>\n      <th>2</th>\n      <td>84458202</td>\n      <td>0.970348</td>\n    </tr>\n    <tr>\n      <th>3</th>\n      <td>84501001</td>\n      <td>0.794606</td>\n    </tr>\n    <tr>\n      <th>4</th>\n      <td>852781</td>\n      <td>0.983478</td>\n    </tr>\n    <tr>\n      <th>5</th>\n      <td>857343</td>\n      <td>0.013051</td>\n    </tr>\n    <tr>\n      <th>6</th>\n      <td>857374</td>\n      <td>0.006580</td>\n    </tr>\n    <tr>\n      <th>7</th>\n      <td>858477</td>\n      <td>0.010140</td>\n    </tr>\n  </tbody>\n</table>\n</div>"
     },
     "metadata": {},
     "execution_count": 59
    }
   ],
   "source": [
    "output = get_csv_output_from_s3(transformer.output_path, f'{batch_file}.out')\n",
    "output_df = pd.read_csv(io.StringIO(output), sep=\",\", header=None)\n",
    "output_df.head(8)"
   ]
  },
  {
   "cell_type": "code",
   "execution_count": null,
   "metadata": {},
   "outputs": [],
   "source": []
  }
 ],
 "metadata": {
  "language_info": {
   "codemirror_mode": {
    "name": "ipython",
    "version": 3
   },
   "file_extension": ".py",
   "mimetype": "text/x-python",
   "name": "python",
   "nbconvert_exporter": "python",
   "pygments_lexer": "ipython3",
   "version": "3.8.3-final"
  },
  "orig_nbformat": 2,
  "kernelspec": {
   "name": "python_defaultSpec_1594359886723",
   "display_name": "Python 3.8.3 64-bit ('AWS': conda)"
  }
 },
 "nbformat": 4,
 "nbformat_minor": 2
}